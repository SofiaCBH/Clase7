{
 "cells": [
  {
   "cell_type": "markdown",
   "id": "03ccaa07",
   "metadata": {},
   "source": [
    "### <center><h2> Ingeniería en Biotecnología </h2></center>\n",
    "# <center><h1 style=\"color:pink\">GBI6 - BIOINFORMÁTICA</h1></center>\n",
    "<img src=\"https://upload.wikimedia.org/wikipedia/commons/thumb/d/de/Logotipo_Ikiam.png/1200px-Logotipo_Ikiam.png\" width=400 height=300/>\n",
    "\n",
    "# <center><h1 style=\"color:turquoise\"> Tarea de traducción</h1></center>\n",
    "\n",
    "# <center><h1 style=\"color:purple\"> Sofía Cristina Barros Hurtado </h1></center>\n"
   ]
  },
  {
   "cell_type": "code",
   "execution_count": 2,
   "id": "7e236c80",
   "metadata": {},
   "outputs": [
    {
     "name": "stdout",
     "output_type": "stream",
     "text": [
      "AAGGACCNGACATCCATCGCTGATGTCAATCCCCCGTGGATCGTAAGTCCGGGAGTAGGAGGAGGAAGGGTCGTCCCACAGTGCGAAGAGGCTTCTGACCTACTGACGGTACCTCCTCAGTGTCAGCCTATAGTCGGAGCTCGAGGGAGACTCGGTCCTCTGTAAAAGTCCGAATACCTTTGATGAAGGAGGTCTTCTATAGGACGGTAG\n"
     ]
    }
   ],
   "source": [
    "seq = \"AAGGACCNGACATCCATCGCTGATGTCAATCCCCCGTGGATCGTAAGTCCGGGAGTAGGAGGAGGAAGGGTCGTCCCACAGTGCGAAGAGGCTTCTGACCTACTGACGGTACCTCCTCAGTGTCAGCCTATAGTCGGAGCTCGAGGGAGACTCGGTCCTCTGTAAAAGTCCGAATACCTTTGATGAAGGAGGTCTTCTATAGGACGGTAG\"\n",
    "print(seq) \n",
    "#Secuencia"
   ]
  },
  {
   "cell_type": "code",
   "execution_count": 4,
   "id": "2e7d3c6a",
   "metadata": {},
   "outputs": [
    {
     "name": "stdout",
     "output_type": "stream",
     "text": [
      "AAGGACCGACATCCATCGCTGATGTCAATCCCCCGTGGATCGTAAGTCCGGGAGTAGGAGGAGGAAGGGTCGTCCCACAGTGCGAAGAGGCTTCTGACCTACTGACGGTACCTCCTCAGTGTCAGCCTATAGTCGGAGCTCGAGGGAGACTCGGTCCTCTGTAAAAGTCCGAATACCTTTGATGAAGGAGGTCTTCTATAGGACGGTAG\n"
     ]
    }
   ],
   "source": [
    "#Secuencia sin n\n",
    "seq2 = seq.replace(\"N\",\"\")#con este comando eliminamos N\n",
    "print(seq2)"
   ]
  },
  {
   "cell_type": "code",
   "execution_count": 5,
   "id": "843474fb",
   "metadata": {},
   "outputs": [
    {
     "name": "stdout",
     "output_type": "stream",
     "text": [
      "TTCCTGGCTGTAGGTAGCGACTACAGTTAGGGGGCACCTAGCATTCAGGCCCTCATCCTCCTCCTTCCCAGCAGGGTGTCACGCTTCTCCGAAGACTGGATGACTGCCATGGAGGAGTCACAGTCGGATATCAGCCTCGAGCTCCCTCTGAGCCAGGAGACATTTTCAGGCTTATGGAAACTACTTCCTCCAGAAGATATCCTGCCATC\n"
     ]
    }
   ],
   "source": [
    "#Sacamos la cadedena complementaria\n",
    "seq3 = seq2.replace (\"A\",\"t\") #con esto reemplazamos A por t \n",
    "seq4 = seq3.replace (\"T\",\"a\") #con esto reemplazamos T por a\n",
    "seq5 = seq4.replace (\"C\",\"g\") #con esto reemplazamos C por g\n",
    "seq6 = seq5.replace (\"G\",\"c\") #con esto reemplazamos G por c\n",
    "cseq = seq6.upper() #Para transformar en mayusculas la secuencia\n",
    "print(cseq) #para imprimir\n",
    "\n",
    "\n",
    "\n"
   ]
  },
  {
   "cell_type": "code",
   "execution_count": 6,
   "id": "6c977de7",
   "metadata": {},
   "outputs": [
    {
     "name": "stdout",
     "output_type": "stream",
     "text": [
      "CTACCGTCCTATAGAAGACCTCCTTCATCAAAGGTATTCGGACTTTTACAGAGGACCGAGTCTCCCTCGAGCTCCGACTATAGGCTGACACTGAGGAGGTACCGTCAGTAGGTCAGAAGCCTCTTCGCACTGTGGGACGACCCTTCCTCCTCCTACTCCCGGACTTACGATCCACGGGGGATTGACATCAGCGATGGATGTCGGTCCTT\n"
     ]
    }
   ],
   "source": [
    "rseq = cseq [::-1] #para obtener el inverso complementario\n",
    "print(rseq)\n"
   ]
  },
  {
   "cell_type": "code",
   "execution_count": 7,
   "id": "17bf7de0",
   "metadata": {},
   "outputs": [
    {
     "name": "stdout",
     "output_type": "stream",
     "text": [
      "AAGGACCGACstarCstarGCTGATGTCAstarCCCCGTGGstarGTAAGTCCGGGAGstopGAGGAGGAAGGGTCGTCCCACAGTGCGAAGAGGCTTCTGACCTACTGACGGTACCTCCTCAGTGTCAGCCTAstopTCGGAGCTCGAGGGAGACTCGGTCCTCTGTAAAAGTCCGAATACCTTTGATGAAGGAGGTCTTCTAstopGACGGstop\n"
     ]
    }
   ],
   "source": [
    "dna_show1= seq2.replace (\"ATC\",\"star\") #para marcar como codon de inicio\n",
    "dna_seq = dna_show1.replace (\"TAG\",\"stop\") #marcar a TAG por codon final\n",
    "print(dna_seq)"
   ]
  },
  {
   "cell_type": "code",
   "execution_count": 11,
   "id": "2854a20b",
   "metadata": {},
   "outputs": [
    {
     "name": "stdout",
     "output_type": "stream",
     "text": [
      "TTCCTGGCTGstopGstopCGACTACAGTstopGGGGCACCstopCATTCAGGCCCTCstarCTCCTCCTTCCCAGCAGGGTGTCACGCTTCTCCGAAGACTGGATGACTGCCATGGAGGAGTCACAGTCGGATstarAGCCTCGAGCTCCCTCTGAGCCAGGAGACATTTTCAGGCTTATGGAAACTACTTCCTCCAGAAGATstarCTGCCstar\n"
     ]
    }
   ],
   "source": [
    "dna_show2= cseq.replace (\"ATC\",\"star\") #para marcar como codon de inicio\n",
    "dna_cseq= dna_show2.replace (\"TAG\",\"stop\") #marcar a TAG por codon final\n",
    "print(dna_cseq)"
   ]
  },
  {
   "cell_type": "code",
   "execution_count": 12,
   "id": "ca247c71",
   "metadata": {},
   "outputs": [
    {
     "name": "stdout",
     "output_type": "stream",
     "text": [
      "CTACCGTCCTAstopAAGACCTCCTTCstarAAAGGTATTCGGACTTTTACAGAGGACCGAGTCTCCCTCGAGCTCCGACTAstopGCTGACACTGAGGAGGTACCGTCAGstopGTCAGAAGCCTCTTCGCACTGTGGGACGACCCTTCCTCCTCCTACTCCCGGACTTACGstarCACGGGGGATTGACstarAGCGATGGATGTCGGTCCTT\n"
     ]
    }
   ],
   "source": [
    "dna_show3= rseq.replace (\"ATC\",\"star\") #para marcar como codon de inicio\n",
    "dna_rseq= dna_show3.replace (\"TAG\",\"stop\") #marcar a TAG por codon final\n",
    "print(dna_rseq)\n"
   ]
  }
 ],
 "metadata": {
  "kernelspec": {
   "display_name": "Python 3 (ipykernel)",
   "language": "python",
   "name": "python3"
  },
  "language_info": {
   "codemirror_mode": {
    "name": "ipython",
    "version": 3
   },
   "file_extension": ".py",
   "mimetype": "text/x-python",
   "name": "python",
   "nbconvert_exporter": "python",
   "pygments_lexer": "ipython3",
   "version": "3.9.12"
  }
 },
 "nbformat": 4,
 "nbformat_minor": 5
}
