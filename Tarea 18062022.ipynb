{
 "cells": [
  {
   "cell_type": "markdown",
   "id": "03ccaa07",
   "metadata": {},
   "source": [
    "### <center><h2> Ingeniería en Biotecnología </h2></center>\n",
    "# <center><h1 style=\"color:pink\">GBI6 - BIOINFORMÁTICA</h1></center>\n",
    "<img src=\"https://upload.wikimedia.org/wikipedia/commons/thumb/d/de/Logotipo_Ikiam.png/1200px-Logotipo_Ikiam.png\" width=400 height=300/>\n",
    "\n",
    "# <center><h1 style=\"color:turquoise\"> Tarea de traducción</h1></center>\n",
    "\n",
    "# <center><h1 style=\"color:purple\"> Sofía Cristina Barros Hurtado </h1></center>\n"
   ]
  },
  {
   "cell_type": "code",
   "execution_count": 8,
   "id": "7e236c80",
   "metadata": {},
   "outputs": [
    {
     "name": "stdout",
     "output_type": "stream",
     "text": [
      "AAGGACCNGACATCCATCGCTGATGTCAATCCCCCGTGGATCGTAAGTCCGGGAGTAGGAGGAGGAAGGGTCGTCCCACAGTGCGAAGAGGCTTCTGACCTACTGACGGTACCTCCTCAGTGTCAGCCTATAGTCGGAGCTCGAGGGAGACTCGGTCCTCTGTAAAAGTCCGAATACCTTTGATGAAGGAGGTCTTCTATAGGACGGTAG\n"
     ]
    }
   ],
   "source": [
    "seq =\"AAGGACCNGACATCCATCGCTGATGTCAATCCCCCGTGGATCGTAAGTCCGGGAGTAGGAGGAGGAAGGGTCGTCCCACAGTGCGAAGAGGCTTCTGACCTACTGACGGTACCTCCTCAGTGTCAGCCTATAGTCGGAGCTCGAGGGAGACTCGGTCCTCTGTAAAAGTCCGAATACCTTTGATGAAGGAGGTCTTCTATAGGACGGTAG\"\n",
    "print(seq) \n",
    "#Secuencia"
   ]
  },
  {
   "cell_type": "code",
   "execution_count": 12,
   "id": "2e7d3c6a",
   "metadata": {},
   "outputs": [
    {
     "name": "stdout",
     "output_type": "stream",
     "text": [
      "AAGGACCGACATCCATCGCTGATGTCAATCCCCCGTGGATCGTAAGTCCGGGAGTAGGAGGAGGAAGGGTCGTCCCACAGTGCGAAGAGGCTTCTGACCTACTGACGGTACCTCCTCAGTGTCAGCCTATAGTCGGAGCTCGAGGGAGACTCGGTCCTCTGTAAAAGTCCGAATACCTTTGATGAAGGAGGTCTTCTATAGGACGGTAG\n"
     ]
    }
   ],
   "source": [
    "#Secuencia sin n\n",
    "seq2 = seq.replace(\"N\",\"\")#con este comando eliminamos N\n",
    "print(seq2)"
   ]
  },
  {
   "cell_type": "code",
   "execution_count": 14,
   "id": "843474fb",
   "metadata": {},
   "outputs": [
    {
     "name": "stdout",
     "output_type": "stream",
     "text": [
      "UUCCUGGCUGUAGGUAGCGACUACAGUUAGGGGGCACCUAGCAUUCAGGCCCUCAUCCUCCUCCUUCCCAGCAGGGUGUCACGCUUCUCCGAAGACUGGAUGACUGCCAUGGAGGAGUCACAGUCGGAUAUCAGCCUCGAGCUCCCUCUGAGCCAGGAGACAUUUUCAGGCUUAUGGAAACUACUUCCUCCAGAAGAUAUCCUGCCAUC\n"
     ]
    }
   ],
   "source": [
    "#Sacamos la cadedena complementaria\n",
    "seq3 = seq2.replace (\"A\", \"U\") #con esto reemplazamos A por U  dado que la timina se sustituye por uracilo en el arn \n",
    "seq4 = seq3.replace (\"T\",\"a\") #con esto reemplazamos T por a\n",
    "seq5 = seq4.replace (\"C\",\"g\") #con esto reemplazamos C por g\n",
    "seq6 = seq5.replace (\"G\",\"c\") #con esto reemplazamos G por c\n",
    "cseq = seq6.upper() #Para transformar en mayusculas la secuencia\n",
    "print(cseq) #para imprimir"
   ]
  },
  {
   "cell_type": "code",
   "execution_count": 6,
   "id": "6c977de7",
   "metadata": {},
   "outputs": [
    {
     "name": "stdout",
     "output_type": "stream",
     "text": [
      "CTACCGTCCTATAGAAGACCTCCTTCATCAAAGGTATTCGGACTTTTACAGAGGACCGAGTCTCCCTCGAGCTCCGACTATAGGCTGACACTGAGGAGGTACCGTCAGTAGGTCAGAAGCCTCTTCGCACTGTGGGACGACCCTTCCTCCTCCTACTCCCGGACTTACGATCCACGGGGGATTGACATCAGCGATGGATGTCGGTCCTT\n"
     ]
    }
   ],
   "source": [
    "rseq = cseq [::-1] #para obtener el inverso complementario\n",
    "print(rseq)\n"
   ]
  },
  {
   "cell_type": "code",
   "execution_count": 7,
   "id": "17bf7de0",
   "metadata": {},
   "outputs": [
    {
     "name": "stdout",
     "output_type": "stream",
     "text": [
      "AAGGACCGACstarCstarGCTGATGTCAstarCCCCGTGGstarGTAAGTCCGGGAGstopGAGGAGGAAGGGTCGTCCCACAGTGCGAAGAGGCTTCTGACCTACTGACGGTACCTCCTCAGTGTCAGCCTAstopTCGGAGCTCGAGGGAGACTCGGTCCTCTGTAAAAGTCCGAATACCTTTGATGAAGGAGGTCTTCTAstopGACGGstop\n"
     ]
    }
   ],
   "source": [
    "dna_show1= seq2.replace (\"ATC\",\"star\") #para marcar como codon de inicio\n",
    "dna_seq = dna_show1.replace (\"TAG\",\"stop\") #marcar a TAG por codon final\n",
    "print(dna_seq)"
   ]
  },
  {
   "cell_type": "code",
   "execution_count": 11,
   "id": "2854a20b",
   "metadata": {},
   "outputs": [
    {
     "name": "stdout",
     "output_type": "stream",
     "text": [
      "TTCCTGGCTGstopGstopCGACTACAGTstopGGGGCACCstopCATTCAGGCCCTCstarCTCCTCCTTCCCAGCAGGGTGTCACGCTTCTCCGAAGACTGGATGACTGCCATGGAGGAGTCACAGTCGGATstarAGCCTCGAGCTCCCTCTGAGCCAGGAGACATTTTCAGGCTTATGGAAACTACTTCCTCCAGAAGATstarCTGCCstar\n"
     ]
    }
   ],
   "source": [
    "dna_show2= cseq.replace (\"ATC\",\"star\") #para marcar como codon de inicio\n",
    "dna_cseq= dna_show2.replace (\"TAG\",\"stop\") #marcar a TAG por codon final\n",
    "print(dna_cseq)"
   ]
  },
  {
   "cell_type": "code",
   "execution_count": 12,
   "id": "ca247c71",
   "metadata": {},
   "outputs": [
    {
     "name": "stdout",
     "output_type": "stream",
     "text": [
      "CTACCGTCCTAstopAAGACCTCCTTCstarAAAGGTATTCGGACTTTTACAGAGGACCGAGTCTCCCTCGAGCTCCGACTAstopGCTGACACTGAGGAGGTACCGTCAGstopGTCAGAAGCCTCTTCGCACTGTGGGACGACCCTTCCTCCTCCTACTCCCGGACTTACGstarCACGGGGGATTGACstarAGCGATGGATGTCGGTCCTT\n"
     ]
    }
   ],
   "source": [
    "dna_show3= rseq.replace (\"ATC\",\"star\") #para marcar como codon de inicio\n",
    "dna_rseq= dna_show3.replace (\"TAG\",\"stop\") #marcar a TAG por codon final\n",
    "print(dna_rseq)\n"
   ]
  },
  {
   "cell_type": "code",
   "execution_count": null,
   "id": "c9b62fb9",
   "metadata": {},
   "outputs": [],
   "source": [
    "rnam_show3= rseq.replace(\"AUG\",\"star\") #Marcamos al AUG como star, sera el codon de inicio en la secuencia\n",
    "rnam_seq1= rnam_show3.replace(\"UAA\",\"stop\") #se marca al UAA como stOP como codon de fin en nuestra secuencia\n",
    "rnam_seq2= rnam_show3.replace(\"UAG\",\"stop\") #marca al UAG como stOP para como codon de fin en la secuencia\n",
    "rnam_seq3= rnam_show3.replace(\"UGA\",\"stop\") #marcar al UGA como stOP como codon de final en la secuencia"
   ]
  }
 ],
 "metadata": {
  "kernelspec": {
   "display_name": "Python 3 (ipykernel)",
   "language": "python",
   "name": "python3"
  },
  "language_info": {
   "codemirror_mode": {
    "name": "ipython",
    "version": 3
   },
   "file_extension": ".py",
   "mimetype": "text/x-python",
   "name": "python",
   "nbconvert_exporter": "python",
   "pygments_lexer": "ipython3",
   "version": "3.9.12"
  }
 },
 "nbformat": 4,
 "nbformat_minor": 5
}
